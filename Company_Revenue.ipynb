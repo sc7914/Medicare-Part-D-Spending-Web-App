{
  "nbformat": 4,
  "nbformat_minor": 0,
  "metadata": {
    "colab": {
      "provenance": [],
      "authorship_tag": "ABX9TyPIqT+AfIukp7xw98VKr8yy",
      "include_colab_link": true
    },
    "kernelspec": {
      "name": "python3",
      "display_name": "Python 3"
    },
    "language_info": {
      "name": "python"
    }
  },
  "cells": [
    {
      "cell_type": "markdown",
      "metadata": {
        "id": "view-in-github",
        "colab_type": "text"
      },
      "source": [
        "<a href=\"https://colab.research.google.com/github/sc7914/Medicare-Part-D-Spending-Web-App/blob/main/Company_Revenue.ipynb\" target=\"_parent\"><img src=\"https://colab.research.google.com/assets/colab-badge.svg\" alt=\"Open In Colab\"/></a>"
      ]
    },
    {
      "cell_type": "code",
      "source": [
        "%%capture\n",
        "!pip install yfinance==0.2.12 #install Yahoo Finance"
      ],
      "metadata": {
        "collapsed": true,
        "id": "gUgqVGe5EJI6"
      },
      "execution_count": 18,
      "outputs": []
    },
    {
      "cell_type": "code",
      "source": [
        "import yfinance as yf\n",
        "\n",
        "def get_revenue(ticker_symbol, years):\n",
        "  ticker = yf.Ticker(ticker_symbol)\n",
        "  financials = ticker.financials\n",
        "  for year in years:\n",
        "    try:\n",
        "      revenue = financials.loc['Total Revenue', str(year)]\n",
        "      formatted_revenue = \"${:,.0f}\".format(round(revenue.values[0])) # Format as currency\n",
        "      print(f\"Revenue for {year}: {formatted_revenue}\")\n",
        "    except:\n",
        "      print(f\"Revenue not found for {year}\")\n",
        "\n",
        "# Get input from the user\n",
        "ticker_input = input(\"Enter the company's ticker symbol: \")\n",
        "choice = input(\"Do you want to see revenue for (s)ingle year or (m)ultiple years? \")\n",
        "\n",
        "if choice.lower() == 's':\n",
        "  year_input = input(\"Enter the year: \")\n",
        "  revenue = get_revenue(ticker_input, [year_input])\n",
        "elif choice.lower() == 'm':\n",
        "  num_years = int(input(\"Enter the number of years: \"))\n",
        "  years_to_print = []\n",
        "  for i in range(num_years):\n",
        "    year = input(f\"Enter year {i+1}: \")\n",
        "    years_to_print.append(year)\n",
        "  get_revenue(ticker_input, years_to_print)\n",
        "else:\n",
        "  print(\"Invalid choice.\")"
      ],
      "metadata": {
        "colab": {
          "base_uri": "https://localhost:8080/"
        },
        "id": "Or-TriHHGnEu",
        "outputId": "04bcea4e-110a-4aa2-9060-ea02db21acd3"
      },
      "execution_count": 25,
      "outputs": [
        {
          "output_type": "stream",
          "name": "stdout",
          "text": [
            "Enter the company's ticker symbol: ABBV\n",
            "Do you want to see revenue for (s)ingle year or (m)ultiple years? m\n",
            "Enter the number of years: 5\n",
            "Enter year 1: 2018\n",
            "Enter year 2: 2019\n",
            "Enter year 3: 2020\n",
            "Enter year 4: 2021\n",
            "Enter year 5: 2022\n",
            "Revenue not found for 2018\n",
            "Revenue not found for 2019\n",
            "Revenue for 2020: $45,804,000,000\n",
            "Revenue for 2021: $56,197,000,000\n",
            "Revenue for 2022: $58,054,000,000\n"
          ]
        }
      ]
    }
  ]
}