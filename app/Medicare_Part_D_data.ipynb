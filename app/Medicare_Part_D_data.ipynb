{
  "cells": [
    {
      "cell_type": "markdown",
      "metadata": {
        "colab_type": "text",
        "id": "view-in-github"
      },
      "source": [
        "<a href=\"https://colab.research.google.com/github/sc7914/Medicare-Part-D-Spending-Web-App/blob/main/Medicare_Part_D_data.ipynb\" target=\"_parent\"><img src=\"https://colab.research.google.com/assets/colab-badge.svg\" alt=\"Open In Colab\"/></a>"
      ]
    },
    {
      "cell_type": "code",
      "execution_count": null,
      "metadata": {
        "id": "HgF4Me7_vCTQ"
      },
      "outputs": [],
      "source": [
        "import requests\n",
        "import json\n",
        "import os\n",
        "import plotly.graph_objects as go\n",
        "import pandas as pd\n",
        "from pandas import DataFrame\n",
        "\n",
        "\n",
        "size = 5000 # max supported by the API (see docs)\n",
        "offset = 0 # start with first data\n",
        "\n",
        "all_records = []\n",
        "\n",
        "while True:\n",
        "    request_url = f\"https://data.cms.gov/data-api/v1/dataset/7e0b4365-fd63-4a29-8f5e-e0ac9f66a81b/data?size={size}&offset={offset}\"\n",
        "    response = requests.get(request_url)\n",
        "    data = response.json()\n",
        "\n",
        "    if not data:\n",
        "        break\n",
        "\n",
        "    all_records.extend(data)\n",
        "    offset += size"
      ]
    },
    {
      "cell_type": "code",
      "execution_count": null,
      "metadata": {
        "colab": {
          "base_uri": "https://localhost:8080/",
          "height": 1000
        },
        "collapsed": true,
        "id": "PdvpkYo1vpOT",
        "outputId": "49a44012-463b-4ffb-c365-39f8380f6121"
      },
      "outputs": [],
      "source": [
        "#AbbVie Data\n",
        "\n",
        "#call dataset for AbbVie\n",
        "all_df[all_df[\"Mftr_Name\"].str.contains(\"Abbvie\")]\n",
        "\n",
        "#show only certain columns\n",
        "columns_to_show = [\"Brnd_Name\", \"Gnrc_Name\", \"Tot_Spndng_2018\", \"Tot_Spndng_2019\", \"Tot_Spndng_2020\", \"Tot_Spndng_2021\", \"Tot_Spndng_2022\"]\n",
        "\n",
        "# Show only the selected columns for AbbVie\n",
        "ABBV_data = all_df[all_df[\"Mftr_Name\"].str.contains(\"Abbvie\")][columns_to_show]\n",
        "\n",
        "# Display the result\n",
        "ABBV_data"
      ]
    },
    {
      "cell_type": "code",
      "execution_count": null,
      "metadata": {
        "colab": {
          "base_uri": "https://localhost:8080/",
          "height": 455
        },
        "collapsed": true,
        "id": "3RRyDm4c4Znd",
        "outputId": "a88ee42a-71f2-4717-b691-94ba7f80412f"
      },
      "outputs": [],
      "source": [
        "all_df[all_df[\"Mftr_Name\"].str.contains(\"Pfizer\")]\n",
        "\n",
        "columns_to_show = [\"Brnd_Name\", \"Gnrc_Name\", \"Tot_Spndng_2018\", \"Tot_Spndng_2019\", \"Tot_Spndng_2020\", \"Tot_Spndng_2021\", \"Tot_Spndng_2022\"]\n",
        "\n",
        "PFE_data = all_df[all_df[\"Mftr_Name\"].str.contains(\"Pfizer\")][columns_to_show]\n",
        "\n",
        "PFE_data"
      ]
    },
    {
      "cell_type": "code",
      "execution_count": null,
      "metadata": {
        "colab": {
          "base_uri": "https://localhost:8080/",
          "height": 1000
        },
        "collapsed": true,
        "id": "l3CJgGyp4qqw",
        "outputId": "06faf9e0-ae1b-43f9-fdba-9c70499385cb"
      },
      "outputs": [],
      "source": [
        "all_df[all_df[\"Mftr_Name\"].str.contains(\"Lilly\")]\n",
        "\n",
        "columns_to_show = [\"Brnd_Name\", \"Gnrc_Name\", \"Tot_Spndng_2018\", \"Tot_Spndng_2019\", \"Tot_Spndng_2020\", \"Tot_Spndng_2021\", \"Tot_Spndng_2022\"]\n",
        "\n",
        "LLY_data = all_df[all_df[\"Mftr_Name\"].str.contains(\"Lilly\")][columns_to_show]\n",
        "\n",
        "LLY_data"
      ]
    },
    {
      "cell_type": "code",
      "execution_count": null,
      "metadata": {
        "colab": {
          "base_uri": "https://localhost:8080/",
          "height": 455
        },
        "collapsed": true,
        "id": "hGGSnflq4yjf",
        "outputId": "34b22ac5-fb38-4254-8ac0-a5d6b8ae8f50"
      },
      "outputs": [],
      "source": [
        "all_df[all_df[\"Mftr_Name\"].str.contains(\"Merck\")]\n",
        "\n",
        "columns_to_show = [\"Brnd_Name\", \"Gnrc_Name\", \"Tot_Spndng_2018\", \"Tot_Spndng_2019\", \"Tot_Spndng_2020\", \"Tot_Spndng_2021\", \"Tot_Spndng_2022\"]\n",
        "\n",
        "MRK_data = all_df[all_df[\"Mftr_Name\"].str.contains(\"Merck\")][columns_to_show]\n",
        "\n",
        "MRK_data"
      ]
    },
    {
      "cell_type": "code",
      "execution_count": null,
      "metadata": {
        "colab": {
          "base_uri": "https://localhost:8080/",
          "height": 802
        },
        "collapsed": true,
        "id": "80-dZ5-W47WK",
        "outputId": "a82e5092-0115-454e-8a7f-db3bc30c8b9b"
      },
      "outputs": [],
      "source": [
        "all_df[all_df[\"Mftr_Name\"].str.contains(\"Gilead\")]\n",
        "\n",
        "columns_to_show = [\"Brnd_Name\", \"Gnrc_Name\", \"Tot_Spndng_2018\", \"Tot_Spndng_2019\", \"Tot_Spndng_2020\", \"Tot_Spndng_2021\", \"Tot_Spndng_2022\"]\n",
        "\n",
        "GILD_data = all_df[all_df[\"Mftr_Name\"].str.contains(\"Gilead\")][columns_to_show]\n",
        "\n",
        "GILD_data"
      ]
    },
    {
      "cell_type": "code",
      "execution_count": null,
      "metadata": {
        "colab": {
          "base_uri": "https://localhost:8080/",
          "height": 1000
        },
        "collapsed": true,
        "id": "Og1HphhN5DT7",
        "outputId": "24056f95-7a12-457c-957e-89d80f1bfd9f"
      },
      "outputs": [],
      "source": [
        "all_df[all_df[\"Mftr_Name\"].str.contains(\"Janssen\")]\n",
        "\n",
        "columns_to_show = [\"Brnd_Name\", \"Gnrc_Name\", \"Tot_Spndng_2018\", \"Tot_Spndng_2019\", \"Tot_Spndng_2020\", \"Tot_Spndng_2021\", \"Tot_Spndng_2022\"]\n",
        "\n",
        "JNJ_data = all_df[all_df[\"Mftr_Name\"].str.contains(\"Janssen\")][columns_to_show]\n",
        "\n",
        "JNJ_data"
      ]
    },
    {
      "cell_type": "code",
      "execution_count": null,
      "metadata": {
        "colab": {
          "base_uri": "https://localhost:8080/",
          "height": 1000
        },
        "collapsed": true,
        "id": "U8y9-88l5K03",
        "outputId": "9bddf4a6-5c56-4c8c-e956-bdd44b297d54"
      },
      "outputs": [],
      "source": [
        "all_df[all_df[\"Mftr_Name\"].str.contains(\"Glaxo\")]\n",
        "\n",
        "columns_to_show = [\"Brnd_Name\", \"Gnrc_Name\", \"Tot_Spndng_2018\", \"Tot_Spndng_2019\", \"Tot_Spndng_2020\", \"Tot_Spndng_2021\", \"Tot_Spndng_2022\"]\n",
        "\n",
        "GSK_data = all_df[all_df[\"Mftr_Name\"].str.contains(\"Glaxo\")][columns_to_show]\n",
        "\n",
        "GSK_data"
      ]
    },
    {
      "cell_type": "code",
      "execution_count": null,
      "metadata": {
        "colab": {
          "base_uri": "https://localhost:8080/",
          "height": 1000
        },
        "collapsed": true,
        "id": "QYbEDwh46Ag3",
        "outputId": "6bc7b8c3-f2b3-4386-cdfc-f258902adc12"
      },
      "outputs": [],
      "source": [
        "all_df[all_df[\"Mftr_Name\"].str.contains(\"Sanofi\")]\n",
        "\n",
        "columns_to_show = [\"Brnd_Name\", \"Gnrc_Name\", \"Tot_Spndng_2018\", \"Tot_Spndng_2019\", \"Tot_Spndng_2020\", \"Tot_Spndng_2021\", \"Tot_Spndng_2022\"]\n",
        "\n",
        "SNY_data = all_df[all_df[\"Mftr_Name\"].str.contains(\"Sanofi\")][columns_to_show]\n",
        "\n",
        "SNY_data"
      ]
    },
    {
      "cell_type": "code",
      "execution_count": null,
      "metadata": {
        "colab": {
          "base_uri": "https://localhost:8080/",
          "height": 238
        },
        "collapsed": true,
        "id": "0p13rZ9C6Njq",
        "outputId": "142aa37e-3ff8-4e0b-b60d-fec76ed5b305"
      },
      "outputs": [],
      "source": [
        "all_df[all_df[\"Mftr_Name\"].str.contains(\"Roche\")]\n",
        "\n",
        "columns_to_show = [\"Brnd_Name\", \"Gnrc_Name\", \"Tot_Spndng_2018\", \"Tot_Spndng_2019\", \"Tot_Spndng_2020\", \"Tot_Spndng_2021\", \"Tot_Spndng_2022\"]\n",
        "\n",
        "RHHBY_data = all_df[all_df[\"Mftr_Name\"].str.contains(\"Roche\")][columns_to_show]\n",
        "\n",
        "RHHBY_data"
      ]
    },
    {
      "cell_type": "code",
      "execution_count": null,
      "metadata": {
        "colab": {
          "base_uri": "https://localhost:8080/",
          "height": 455
        },
        "collapsed": true,
        "id": "Yi_6Yscm6p31",
        "outputId": "454a1e95-c308-4024-cb27-2943e360dc04"
      },
      "outputs": [],
      "source": [
        "all_df[all_df[\"Mftr_Name\"].str.contains(\"Novartis\")]\n",
        "\n",
        "columns_to_show = [\"Brnd_Name\", \"Gnrc_Name\", \"Tot_Spndng_2018\", \"Tot_Spndng_2019\", \"Tot_Spndng_2020\", \"Tot_Spndng_2021\", \"Tot_Spndng_2022\"]\n",
        "\n",
        "NVS_data = all_df[all_df[\"Mftr_Name\"].str.contains(\"Novartis\")][columns_to_show]\n",
        "\n",
        "NVS_data"
      ]
    },
    {
      "cell_type": "code",
      "execution_count": null,
      "metadata": {
        "colab": {
          "base_uri": "https://localhost:8080/",
          "height": 1000
        },
        "collapsed": true,
        "id": "TpY9cqx064JL",
        "outputId": "af5ec033-f497-4a27-8fbf-b97bc9550d47"
      },
      "outputs": [],
      "source": [
        "all_df[all_df[\"Mftr_Name\"].str.contains(\"Novo\")]\n",
        "\n",
        "columns_to_show = [\"Brnd_Name\", \"Gnrc_Name\", \"Tot_Spndng_2018\", \"Tot_Spndng_2019\", \"Tot_Spndng_2020\", \"Tot_Spndng_2021\", \"Tot_Spndng_2022\"]\n",
        "\n",
        "NOVO_data = all_df[all_df[\"Mftr_Name\"].str.contains(\"Novo\")][columns_to_show]\n",
        "\n",
        "NOVO_data"
      ]
    },
    {
      "cell_type": "code",
      "execution_count": null,
      "metadata": {
        "colab": {
          "base_uri": "https://localhost:8080/",
          "height": 1000
        },
        "collapsed": true,
        "id": "K-Lh4cqI7GW5",
        "outputId": "fe759d60-6cfb-489f-89f9-5fa23ad040a0"
      },
      "outputs": [],
      "source": [
        "all_df[all_df[\"Mftr_Name\"].str.contains(\"Astra\")]\n",
        "\n",
        "columns_to_show = [\"Brnd_Name\", \"Gnrc_Name\", \"Tot_Spndng_2018\", \"Tot_Spndng_2019\", \"Tot_Spndng_2020\", \"Tot_Spndng_2021\", \"Tot_Spndng_2022\"]\n",
        "\n",
        "AZN_data = all_df[all_df[\"Mftr_Name\"].str.contains(\"Astra\")][columns_to_show]\n",
        "\n",
        "AZN_data"
      ]
    },
    {
      "cell_type": "markdown",
      "metadata": {
        "id": "Yh85lmA36pNk"
      },
      "source": []
    },
    {
      "cell_type": "code",
      "execution_count": null,
      "metadata": {
        "colab": {
          "base_uri": "https://localhost:8080/",
          "height": 1000
        },
        "collapsed": true,
        "id": "1vetkmSk8B9j",
        "outputId": "ac0654f0-2d39-4405-c4eb-5a9d3bee4c18"
      },
      "outputs": [],
      "source": [
        "all_df[all_df[\"Mftr_Name\"].str.contains(\"BMS\")]\n",
        "\n",
        "columns_to_show = [\"Brnd_Name\", \"Gnrc_Name\", \"Tot_Spndng_2018\", \"Tot_Spndng_2019\", \"Tot_Spndng_2020\", \"Tot_Spndng_2021\", \"Tot_Spndng_2022\"]\n",
        "\n",
        "BMY_data = all_df[all_df[\"Mftr_Name\"].str.contains(\"BMS\")][columns_to_show]\n",
        "\n",
        "BMY_data"
      ]
    },
    {
      "cell_type": "code",
      "execution_count": null,
      "metadata": {
        "colab": {
          "base_uri": "https://localhost:8080/",
          "height": 1000
        },
        "collapsed": true,
        "id": "ZUrVkctn8X7v",
        "outputId": "d8d08945-5f77-4ccb-b67e-6587a6259181"
      },
      "outputs": [],
      "source": [
        "all_df[all_df[\"Mftr_Name\"].str.contains(\"Amgen\")]\n",
        "\n",
        "columns_to_show = [\"Brnd_Name\", \"Gnrc_Name\", \"Tot_Spndng_2018\", \"Tot_Spndng_2019\", \"Tot_Spndng_2020\", \"Tot_Spndng_2021\", \"Tot_Spndng_2022\"]\n",
        "\n",
        "AMGN_data = all_df[all_df[\"Mftr_Name\"].str.contains(\"Amgen\")][columns_to_show]\n",
        "\n",
        "AMGN_data"
      ]
    },
    {
      "cell_type": "code",
      "execution_count": null,
      "metadata": {
        "colab": {
          "base_uri": "https://localhost:8080/",
          "height": 332
        },
        "collapsed": true,
        "id": "WYGacvNd8fLe",
        "outputId": "092e8e1e-69cd-4e0f-925d-6b89b5f9a304"
      },
      "outputs": [],
      "source": [
        "all_df[all_df[\"Mftr_Name\"].str.contains(\"Biogen\")]\n",
        "\n",
        "columns_to_show = [\"Brnd_Name\", \"Gnrc_Name\", \"Tot_Spndng_2018\", \"Tot_Spndng_2019\", \"Tot_Spndng_2020\", \"Tot_Spndng_2021\", \"Tot_Spndng_2022\"]\n",
        "\n",
        "BIIB_data = all_df[all_df[\"Mftr_Name\"].str.contains(\"Biogen\")][columns_to_show]\n",
        "\n",
        "BIIB_data"
      ]
    },
    {
      "cell_type": "code",
      "execution_count": null,
      "metadata": {
        "colab": {
          "base_uri": "https://localhost:8080/",
          "height": 1000
        },
        "id": "RfcVqjrbKN3V",
        "outputId": "065bb459-f627-4546-b2b0-c0b7ec860885"
      },
      "outputs": [],
      "source": [
        "# Dictionary of company dataframes\n",
        "company_data = {\n",
        "    \"ABBV\": ABBV_data,\n",
        "    \"PFE\": PFE_data,\n",
        "    \"LLY\": LLY_data,\n",
        "    \"MRK\": MRK_data,\n",
        "    \"GILD\": GILD_data,\n",
        "    \"JNJ\": JNJ_data,\n",
        "    \"GSK\": GSK_data,\n",
        "    \"SNY\": SNY_data,\n",
        "    \"RHHBY\": RHHBY_data,\n",
        "    \"NVS\": NVS_data,\n",
        "    \"NOVO\": NOVO_data,\n",
        "    \"AZN\": AZN_data,\n",
        "    \"BMY\": BMY_data,\n",
        "    \"AMGN\": AMGN_data,\n",
        "    \"BIIB\": BIIB_data\n",
        "}\n",
        "\n",
        "# Display valid input options\n",
        "print(\"Valid company keys:\")\n",
        "for key in company_data.keys():\n",
        "    print(key)\n",
        "print(\"-----------------------\")\n",
        "\n",
        "# Get input from the user\n",
        "company_key = input(\"Enter the company key (e.g., ABBV, PFE): \")\n",
        "\n",
        "if company_key in company_data:\n",
        "    selected_data = company_data[company_key]\n",
        "    # Format output data as a table\n",
        "    from IPython.display import display, HTML\n",
        "    display(HTML(selected_data.to_html()))\n",
        "else:\n",
        "    print(\"Invalid company key.\")"
      ]
    },
    {
      "cell_type": "code",
      "execution_count": null,
      "metadata": {
        "colab": {
          "base_uri": "https://localhost:8080/"
        },
        "id": "Xw5Tdc1OTW6c",
        "outputId": "b2aca7b4-6ff2-4bfa-81c9-c85c852aa1d6"
      },
      "outputs": [],
      "source": [
        "company_key = input(\"Enter the company key (e.g., ABBV, PFE): \")\n",
        "\n",
        "if company_key in company_data:\n",
        "    selected_data = company_data[company_key]\n",
        "    for year in range(2018, 2023):\n",
        "        column_name = f\"Tot_Spndng_{year}\"\n",
        "        yearly_spending = sum(float(x) for x in selected_data[column_name] if x)\n",
        "        formatted_spending = '{:,}'.format(round(yearly_spending))\n",
        "        print(f\"{company_key} spending in {year}: {formatted_spending}\")\n",
        "        print(\"--------------\")\n",
        "else:\n",
        "    print(\"Invalid company key.\")"
      ]
    },
    {
      "cell_type": "code",
      "execution_count": null,
      "metadata": {
        "colab": {
          "base_uri": "https://localhost:8080/",
          "height": 667
        },
        "id": "1ApCDxN5Vmwe",
        "outputId": "1ebb385c-b5c8-4843-c935-75ca255bad29"
      },
      "outputs": [],
      "source": [
        "# Dictionary of company dataframes\n",
        "company_data = {\n",
        "    \"ABBV\": ABBV_data,\n",
        "    \"PFE\": PFE_data,\n",
        "    # ... other companies\n",
        "}\n",
        "\n",
        "# Display valid input options\n",
        "print(\"Valid company keys:\")\n",
        "for key in company_data.keys():\n",
        "    print(key)\n",
        "print(\"-----------------------\")\n",
        "\n",
        "# Get input from the user\n",
        "company_key = input(\"Enter the company key (e.g., ABBV, PFE): \")\n",
        "\n",
        "if company_key in company_data:\n",
        "    selected_data = company_data[company_key]\n",
        "\n",
        "    # Convert spending columns to numeric, handling non-numeric values\n",
        "    for year in range(2018, 2023):\n",
        "        column_name = f\"Tot_Spndng_{year}\"\n",
        "        selected_data[column_name] = pd.to_numeric(selected_data[column_name], errors='coerce')\n",
        "\n",
        "    # Calculate total spending\n",
        "    total_spending = selected_data[[\"Tot_Spndng_2018\", \"Tot_Spndng_2019\", \"Tot_Spndng_2020\", \"Tot_Spndng_2021\", \"Tot_Spndng_2022\"]].sum().sum()\n",
        "    formatted_total = '{:,}'.format(round(total_spending))\n",
        "    print(f\"Total Spending for {company_key}: {formatted_total}\")\n",
        "    print(\"--------------\")\n",
        "\n",
        "    # Iterate over the years and store the sums in a list\n",
        "    yearly_spendings = []\n",
        "    for year in range(2018, 2023):\n",
        "        column_name = f\"Tot_Spndng_{year}\"\n",
        "        yearly_spending = selected_data[column_name].sum()\n",
        "        yearly_spendings.append(round(yearly_spending))\n",
        "\n",
        " # Create a bar chart using Plotly\n",
        "    years = list(range(2018, 2023)) # Convert range object to a list\n",
        "    fig = go.Figure(data=[go.Bar(x=years, y=yearly_spendings)])\n",
        "    fig.update_layout(\n",
        "        title=f\"Yearly Spending for {company_key}\",\n",
        "        xaxis_title=\"Year\",\n",
        "        yaxis_title=\"Total Spending ($USD)\"\n",
        "    )\n",
        "    fig.show()\n",
        "\n",
        "else:\n",
        "    print(\"Invalid company key.\")"
      ]
    }
  ],
  "metadata": {
    "colab": {
      "authorship_tag": "ABX9TyPCjrYU487HqexJFxVNt8Uj",
      "include_colab_link": true,
      "provenance": []
    },
    "kernelspec": {
      "display_name": "Python 3",
      "name": "python3"
    },
    "language_info": {
      "codemirror_mode": {
        "name": "ipython",
        "version": 3
      },
      "file_extension": ".py",
      "mimetype": "text/x-python",
      "name": "python",
      "nbconvert_exporter": "python",
      "pygments_lexer": "ipython3",
      "version": "3.12.4"
    }
  },
  "nbformat": 4,
  "nbformat_minor": 0
}
