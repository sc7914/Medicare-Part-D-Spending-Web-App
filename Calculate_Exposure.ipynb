{
  "nbformat": 4,
  "nbformat_minor": 0,
  "metadata": {
    "colab": {
      "provenance": [],
      "authorship_tag": "ABX9TyMfvQPYahOA3Ic3xP5Gwbpi",
      "include_colab_link": true
    },
    "kernelspec": {
      "name": "python3",
      "display_name": "Python 3"
    },
    "language_info": {
      "name": "python"
    }
  },
  "cells": [
    {
      "cell_type": "markdown",
      "metadata": {
        "id": "view-in-github",
        "colab_type": "text"
      },
      "source": [
        "<a href=\"https://colab.research.google.com/github/sc7914/Medicare-Part-D-Spending-Web-App/blob/main/Calculate_Exposure.ipynb\" target=\"_parent\"><img src=\"https://colab.research.google.com/assets/colab-badge.svg\" alt=\"Open In Colab\"/></a>"
      ]
    },
    {
      "cell_type": "code",
      "execution_count": 5,
      "metadata": {
        "colab": {
          "base_uri": "https://localhost:8080/"
        },
        "id": "UbNrO_9sINDA",
        "outputId": "59837388-a0bd-4574-cd17-c2e6c361b9e0"
      },
      "outputs": [
        {
          "output_type": "stream",
          "name": "stdout",
          "text": [
            "Enter total Medicare Part D spend: 6\n",
            "Enter total revenue: 10\n",
            "Total Medicare Part D Exposure: 60.0%\n"
          ]
        }
      ],
      "source": [
        "def calculate_percentage(obtained, total):\n",
        "  return (obtained/total)*100\n",
        "\n",
        "medicare_spend = float(input(\"Enter total Medicare Part D spend: \"))\n",
        "total_revenue = float(input(\"Enter total revenue: \"))\n",
        "\n",
        "percentage = calculate_percentage(medicare_spend, total_revenue)\n",
        "print(f\"Total Medicare Part D Exposure: {percentage:,.1f}%\")"
      ]
    }
  ]
}